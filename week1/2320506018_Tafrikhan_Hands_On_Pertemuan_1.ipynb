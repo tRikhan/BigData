{
  "cells": [
    {
      "cell_type": "markdown",
      "id": "10c25d6f",
      "metadata": {
        "id": "10c25d6f"
      },
      "source": [
        "# Hands-On Pertemuan 1: Pengenalan Big Data dan Overview Teknologi"
      ]
    },
    {
      "cell_type": "markdown",
      "source": [
        "**Tafrikhan Rizki Praditya**\n",
        "\n",
        "2320506018 // Rombel 1"
      ],
      "metadata": {
        "id": "K-9x6LCeCntp"
      },
      "id": "K-9x6LCeCntp"
    },
    {
      "cell_type": "markdown",
      "id": "7117dfdb",
      "metadata": {
        "id": "7117dfdb"
      },
      "source": [
        "## Tujuan\n",
        "Pada akhir praktikum ini, mahasiswa diharapkan mampu:\n",
        "1. Memahami konsep dasar Big Data.\n",
        "2. Menjelaskan karakteristik dan tantangan Big Data (Volume, Variety, Velocity, dan Veracity).\n",
        "3. Mengenal teknologi yang digunakan dalam ekosistem Big Data.\n",
        "4. Menginstal dan mengonfigurasi Anaconda untuk bekerja dengan alat Big Data seperti Hadoop dan Spark.\n",
        "5. Memulai praktik sederhana terkait pengolahan data menggunakan PySpark dan Pandas."
      ]
    },
    {
      "cell_type": "markdown",
      "id": "7e805141",
      "metadata": {
        "id": "7e805141"
      },
      "source": [
        "## Peralatan yang Dibutuhkan\n",
        "1. Anaconda (untuk manajemen lingkungan)\n",
        "2. Jupyter Notebook (bawaan dari Anaconda)\n",
        "3. PySpark (untuk pemrosesan data skala besar)\n",
        "4. Pandas (untuk data analysis)\n",
        "5. Python (bawaan dari Anaconda)"
      ]
    },
    {
      "cell_type": "code",
      "execution_count": null,
      "id": "3xmH7-KgH-TH",
      "metadata": {
        "id": "3xmH7-KgH-TH"
      },
      "outputs": [],
      "source": []
    },
    {
      "cell_type": "markdown",
      "id": "8daa78a0",
      "metadata": {
        "id": "8daa78a0"
      },
      "source": [
        "## Langkah-Langkah Hands-On"
      ]
    },
    {
      "cell_type": "markdown",
      "id": "23b963c0",
      "metadata": {
        "id": "23b963c0"
      },
      "source": [
        "### 1. Instalasi Anaconda\n",
        "- **Langkah 1: Unduh dan Instal Anaconda**\n",
        "  Anaconda adalah platform distribusi Python yang menyertakan berbagai alat pengembangan, termasuk Jupyter Notebook. Ikuti langkah-langkah instalasi sesuai sistem operasi:\n",
        "  - Unduh Anaconda: [Download Anaconda](https://www.anaconda.com/products/individual)\n",
        "  - Instal sesuai instruksi yang ada di situs web tersebut (Windows/Mac/Linux).\n",
        "\n",
        "- **Langkah 2: Menginstal PySpark di Anaconda**\n",
        "  Setelah Anaconda terinstal, tambahkan PySpark:\n",
        "  ```bash\n",
        "  pip install pyspark==3.4.1\n",
        "  ```\n",
        "\n",
        "- **Langkah 3: Menginstal Pandas**\n",
        "  Untuk memudahkan data analysis, install Pandas:\n",
        "  ```bash\n",
        "  pip install pandas\n",
        "  ```\n",
        "\n",
        "- **Langkah 4: Menginstal Findspark**\n",
        "  ```bash\n",
        "  pip install findspark\n",
        "  ```"
      ]
    },
    {
      "cell_type": "markdown",
      "source": [
        "karena saya memakai google colab maka saya skip langkah instalasi anaconda dan langsung ke langkah 2.\n",
        "\n",
        "kode berikut akan menginstall pyspark, pandas, dan findspark:"
      ],
      "metadata": {
        "id": "wrxwiW4dDI9o"
      },
      "id": "wrxwiW4dDI9o"
    },
    {
      "cell_type": "code",
      "source": [
        "!pip install pyspark==3.4.1\n",
        "!pip install pandas\n",
        "!pip install findspark"
      ],
      "metadata": {
        "colab": {
          "base_uri": "https://localhost:8080/"
        },
        "id": "lMtI4qfweWi3",
        "outputId": "b9aeceeb-cacb-4232-f86a-1b0501badc29"
      },
      "id": "lMtI4qfweWi3",
      "execution_count": null,
      "outputs": [
        {
          "output_type": "stream",
          "name": "stdout",
          "text": [
            "Collecting pyspark==3.4.1\n",
            "  Downloading pyspark-3.4.1.tar.gz (310.8 MB)\n",
            "\u001b[2K     \u001b[90m━━━━━━━━━━━━━━━━━━━━━━━━━━━━━━━━━━━━━━━━\u001b[0m \u001b[32m310.8/310.8 MB\u001b[0m \u001b[31m5.0 MB/s\u001b[0m eta \u001b[36m0:00:00\u001b[0m\n",
            "\u001b[?25h  Preparing metadata (setup.py) ... \u001b[?25l\u001b[?25hdone\n",
            "Requirement already satisfied: py4j==0.10.9.7 in /usr/local/lib/python3.10/dist-packages (from pyspark==3.4.1) (0.10.9.7)\n",
            "Building wheels for collected packages: pyspark\n",
            "  Building wheel for pyspark (setup.py) ... \u001b[?25l\u001b[?25hdone\n",
            "  Created wheel for pyspark: filename=pyspark-3.4.1-py2.py3-none-any.whl size=311285391 sha256=7d30fa54bfb016f6c7b57495ef213172064c073923ebbaa9b2c5d39e38e04f04\n",
            "  Stored in directory: /root/.cache/pip/wheels/0d/77/a3/ff2f74cc9ab41f8f594dabf0579c2a7c6de920d584206e0834\n",
            "Successfully built pyspark\n",
            "Installing collected packages: pyspark\n",
            "Successfully installed pyspark-3.4.1\n",
            "Requirement already satisfied: pandas in /usr/local/lib/python3.10/dist-packages (2.1.4)\n",
            "Requirement already satisfied: numpy<2,>=1.22.4 in /usr/local/lib/python3.10/dist-packages (from pandas) (1.26.4)\n",
            "Requirement already satisfied: python-dateutil>=2.8.2 in /usr/local/lib/python3.10/dist-packages (from pandas) (2.8.2)\n",
            "Requirement already satisfied: pytz>=2020.1 in /usr/local/lib/python3.10/dist-packages (from pandas) (2024.1)\n",
            "Requirement already satisfied: tzdata>=2022.1 in /usr/local/lib/python3.10/dist-packages (from pandas) (2024.1)\n",
            "Requirement already satisfied: six>=1.5 in /usr/local/lib/python3.10/dist-packages (from python-dateutil>=2.8.2->pandas) (1.16.0)\n",
            "Collecting findspark\n",
            "  Downloading findspark-2.0.1-py2.py3-none-any.whl.metadata (352 bytes)\n",
            "Downloading findspark-2.0.1-py2.py3-none-any.whl (4.4 kB)\n",
            "Installing collected packages: findspark\n",
            "Successfully installed findspark-2.0.1\n"
          ]
        }
      ]
    },
    {
      "cell_type": "markdown",
      "id": "208f1a45",
      "metadata": {
        "id": "208f1a45"
      },
      "source": [
        "### 2. Pengenalan dan Praktik Dasar PySpark dan Pandas\n",
        "- **Langkah 1: Membuka Jupyter Notebook**\n",
        "  Setelah instalasi selesai, buka Jupyter Notebook melalui Anaconda Navigator atau melalui terminal dengan perintah:\n",
        "  ```bash\n",
        "  jupyter notebook\n",
        "  ```\n",
        "\n",
        "- **Langkah 2: Membuat Project Notebook Baru**\n",
        "  Di Jupyter Notebook, buat notebook baru untuk praktikum ini.\n",
        "\n",
        "- **Langkah 3: Praktik dengan PySpark**\n",
        "  Buat program sederhana untuk memulai dengan PySpark. Gunakan PySpark untuk membuat DataFrame dan memanipulasi data sederhana:"
      ]
    },
    {
      "cell_type": "code",
      "execution_count": null,
      "id": "KERSZShIH_aN",
      "metadata": {
        "id": "KERSZShIH_aN"
      },
      "outputs": [],
      "source": [
        "# kode berikut akan mengimpor findspark\n",
        "import findspark\n",
        "findspark.init()"
      ]
    },
    {
      "cell_type": "code",
      "execution_count": null,
      "id": "f78a5053",
      "metadata": {
        "id": "f78a5053",
        "colab": {
          "base_uri": "https://localhost:8080/"
        },
        "outputId": "66379723-f429-412f-ab4c-a1e707291a01"
      },
      "outputs": [
        {
          "output_type": "stream",
          "name": "stdout",
          "text": [
            "+-----+----+--------+------+------------------+\n",
            "| Nama|Usia|    Hobi|Gender|         Pekerjaan|\n",
            "+-----+----+--------+------+------------------+\n",
            "|  Ali|  34|   Makan|     L|  Streamer Mukbang|\n",
            "| Budi|  23| Mancing|     L|Bos Perikanan Lele|\n",
            "|Citra|  29|  Merias|     P| Badut Ulang Tahun|\n",
            "| Dina|  45|Berkebun|     P|Jual Beli Singkong|\n",
            "+-----+----+--------+------+------------------+\n",
            "\n"
          ]
        }
      ],
      "source": [
        "from pyspark.sql import SparkSession\n",
        "\n",
        "# Memulai Spark session\n",
        "spark = SparkSession.builder.appName(\"BigDataPractice\").getOrCreate()\n",
        "\n",
        "# Membuat DataFrame sederhana\n",
        "data = [(\"Ali\", 34, \"Makan\", \"L\", \"Streamer Mukbang\"),\n",
        "        (\"Budi\", 23, \"Mancing\", \"L\", \"Bos Perikanan Lele\"),\n",
        "        (\"Citra\", 29, \"Merias\", \"P\", \"Badut Ulang Tahun\"),\n",
        "        (\"Dina\", 45, \"Berkebun\", \"P\", \"Jual Beli Singkong\")]\n",
        "columns = [\"Nama\", \"Usia\", \"Hobi\", \"Gender\", \"Pekerjaan\"]\n",
        "df = spark.createDataFrame(data, columns)\n",
        "\n",
        "# Menampilkan DataFrame\n",
        "df.show()\n"
      ]
    },
    {
      "cell_type": "markdown",
      "id": "8747276f",
      "metadata": {
        "id": "8747276f"
      },
      "source": [
        "- **Tugas 1**: Jalankan kode di atas dan buat modifikasi dengan menambahkan data lain berupa kolom pekerjaan, hobi dan gender."
      ]
    },
    {
      "cell_type": "markdown",
      "id": "1f84a333",
      "metadata": {
        "id": "1f84a333"
      },
      "source": [
        "### 3. Praktik PySpark Lanjutan\n",
        "- **Latihan 1**: Memanipulasi Data dengan PySpark."
      ]
    },
    {
      "cell_type": "code",
      "execution_count": null,
      "id": "1f391ed5",
      "metadata": {
        "id": "1f391ed5",
        "colab": {
          "base_uri": "https://localhost:8080/"
        },
        "outputId": "1381538e-6eb2-4692-a130-86b4e9390733"
      },
      "outputs": [
        {
          "output_type": "stream",
          "name": "stdout",
          "text": [
            "+-----+----+\n",
            "| Nama|Usia|\n",
            "+-----+----+\n",
            "|  Ali|  34|\n",
            "| Budi|  23|\n",
            "|Citra|  29|\n",
            "| Dina|  45|\n",
            "+-----+----+\n",
            "\n",
            "+----+----+\n",
            "|Nama|Usia|\n",
            "+----+----+\n",
            "| Ali|  34|\n",
            "|Dina|  45|\n",
            "+----+----+\n",
            "\n",
            "+---------+\n",
            "|avg(Usia)|\n",
            "+---------+\n",
            "|    32.75|\n",
            "+---------+\n",
            "\n",
            "+-----+----+\n",
            "| Nama|Usia|\n",
            "+-----+----+\n",
            "| Budi|  23|\n",
            "|Citra|  29|\n",
            "|  Ali|  34|\n",
            "| Dina|  45|\n",
            "+-----+----+\n",
            "\n"
          ]
        }
      ],
      "source": [
        "from pyspark.sql import SparkSession\n",
        "\n",
        "# Memulai Spark session\n",
        "spark = SparkSession.builder.appName(\"BigDataPractice\").getOrCreate()\n",
        "\n",
        "# Membuat DataFrame sederhana\n",
        "data = [(\"Ali\", 34),\n",
        "        (\"Budi\", 23),\n",
        "        (\"Citra\", 29),\n",
        "        (\"Dina\", 45)]\n",
        "columns = [\"Nama\", \"Usia\"]\n",
        "df = spark.createDataFrame(data, columns)\n",
        "\n",
        "# Menampilkan DataFrame\n",
        "df.show()\n",
        "\n",
        "# Filtering data\n",
        "df_filtered = df.filter(df['Usia'] > 30)\n",
        "df_filtered.show()\n",
        "\n",
        "# Menghitung rata-rata usia\n",
        "from pyspark.sql.functions import avg\n",
        "df.groupBy().agg(avg(\"Usia\")).show()\n",
        "\n",
        "# Mengurutkan data berdasarkan usia\n",
        "df_sorted = df.orderBy(\"Usia\", ascending=True)\n",
        "df_sorted.show()\n"
      ]
    },
    {
      "cell_type": "markdown",
      "id": "e06767bc",
      "metadata": {
        "id": "e06767bc"
      },
      "source": [
        "- **Tugas 2**: Lakukan filter, penghitungan rata-rata, dan pengurutan data menggunakan PySpark."
      ]
    },
    {
      "cell_type": "markdown",
      "id": "fe1e34a5",
      "metadata": {
        "id": "fe1e34a5"
      },
      "source": [
        "### 4. Praktik dengan Pandas\n",
        "- **Latihan 2**:  Buat DataFrame menggunakan Pandas:"
      ]
    },
    {
      "cell_type": "code",
      "execution_count": null,
      "id": "3f1f2ec1",
      "metadata": {
        "id": "3f1f2ec1",
        "colab": {
          "base_uri": "https://localhost:8080/"
        },
        "outputId": "7fcbd719-9670-4323-9d32-334e4ae84525"
      },
      "outputs": [
        {
          "output_type": "stream",
          "name": "stdout",
          "text": [
            "    Nama  Usia      Hobi\n",
            "0    Ali    34     Makan\n",
            "1   Budi    23   Mancing\n",
            "2  Citra    29    Merias\n",
            "3   Dina    45  Berkebun \n",
            "\n",
            "    Nama  Usia      Hobi\n",
            "1   Budi    23   Mancing\n",
            "2  Citra    29    Merias\n",
            "0    Ali    34     Makan\n",
            "3   Dina    45  Berkebun \n",
            "\n",
            "    Nama  Usia     Hobi\n",
            "1   Budi    23  Mancing\n",
            "2  Citra    29   Merias\n"
          ]
        }
      ],
      "source": [
        "import pandas as pd\n",
        "\n",
        "# Membuat DataFrame Pandas\n",
        "data_pandas = {\"Nama\": [\"Ali\", \"Budi\", \"Citra\", \"Dina\"],\n",
        "               \"Usia\": [34, 23, 29, 45],\n",
        "               \"Hobi\": [\"Makan\", \"Mancing\", \"Merias\", \"Berkebun\"]}\n",
        "df_pandas = pd.DataFrame(data_pandas)\n",
        "\n",
        "# Menampilkan DataFrame Pandas\n",
        "print(df_pandas, \"\\n\")\n",
        "# Filter Data Berdasarkan Usia\n",
        "df_sorted = df_pandas.sort_values(by=\"Usia\")\n",
        "\n",
        "#Menampilkan Data Yang Sudah di Sort\n",
        "print(df_sorted , \"\\n\")\n",
        "\n",
        "#Filter Data Usia Dibawah 30 Tahun\n",
        "df_filtered = df_pandas[df_pandas[\"Usia\"] < 30]\n",
        "\n",
        "#Menampilkan Data Yang Sudah di Filter\n",
        "print(df_filtered)"
      ]
    },
    {
      "cell_type": "markdown",
      "id": "9da455f1",
      "metadata": {
        "id": "9da455f1"
      },
      "source": [
        "- **Tugas 3**: Modifikasi DataFrame Pandas dengan menambahkan kolom baru dan melakukan operasi seperti filtering data berdasarkan usia.\n",
        "\n",
        "= saya menambahkan filter untuk menampilkan data usia di bawah 30 tahun."
      ]
    },
    {
      "cell_type": "markdown",
      "id": "c0042b2b",
      "metadata": {
        "id": "c0042b2b"
      },
      "source": [
        "### 5. Praktik Pandas Lanjutan\n",
        "- **Latihan 3**: Penggunaan Pandas untuk operasi lebih kompleks."
      ]
    },
    {
      "cell_type": "code",
      "execution_count": null,
      "id": "e7a8142f",
      "metadata": {
        "id": "e7a8142f",
        "colab": {
          "base_uri": "https://localhost:8080/",
          "height": 795
        },
        "outputId": "90d430d1-8964-4eca-cdb6-632349fa2bce"
      },
      "outputs": [
        {
          "output_type": "stream",
          "name": "stdout",
          "text": [
            "DataFrame Gabungan :\n",
            "    Nama  Usia Pekerjaan\n",
            "0    Ali    34    Dokter\n",
            "1   Budi    23      Guru\n",
            "2  Citra    29  Insinyur\n",
            "3   Dina    45   Perawat\n",
            "\n",
            "Statistik :\n",
            "            Usia\n",
            "count   4.000000\n",
            "mean   32.750000\n",
            "std     9.322911\n",
            "min    23.000000\n",
            "25%    27.500000\n",
            "50%    31.500000\n",
            "75%    36.750000\n",
            "max    45.000000\n"
          ]
        },
        {
          "output_type": "display_data",
          "data": {
            "text/plain": [
              "<Figure size 640x480 with 1 Axes>"
            ],
            "image/png": "[encoded data removed]"
          },
          "metadata": {}
        }
      ],
      "source": [
        "import pandas as pd\n",
        "\n",
        "# Membuat DataFrame Pandas\n",
        "data_pandas = {\"Nama\": [\"Ali\", \"Budi\", \"Citra\", \"Dina\"], \"Usia\": [34, 23, 29, 45]}\n",
        "df_pandas = pd.DataFrame(data_pandas)\n",
        "\n",
        "# Membuat DataFrame kedua\n",
        "data_pandas_2 = {\"Nama\": [\"Ali\", \"Budi\", \"Citra\", \"Dina\"], \"Pekerjaan\": [\"Dokter\", \"Guru\", \"Insinyur\", \"Perawat\"]}\n",
        "df_pandas_2 = pd.DataFrame(data_pandas_2)\n",
        "\n",
        "# Join antara dua DataFrame\n",
        "df_joined = pd.merge(df_pandas, df_pandas_2, on=\"Nama\")\n",
        "print(\"DataFrame Gabungan :\")\n",
        "print(df_joined)\n",
        "\n",
        "# Menghitung statistik deskriptif\n",
        "print(\"\\nStatistik :\")\n",
        "print(df_pandas.describe())\n",
        "\n",
        "# Plotting Data\n",
        "import matplotlib.pyplot as plt\n",
        "df_pandas['Usia'].plot(kind='bar')\n",
        "plt.xlabel('Nama')\n",
        "plt.ylabel('Usia')\n",
        "plt.title('Usia / Nama')\n",
        "plt.xticks(ticks=range(len(df_pandas['Nama'])), labels=df_pandas['Nama'])\n",
        "plt.show()\n"
      ]
    },
    {
      "cell_type": "markdown",
      "id": "884ed75d",
      "metadata": {
        "id": "884ed75d"
      },
      "source": [
        "- **Tugas 4**: Lakukan penggabungan DataFrame dan visualisasikan data dengan Pandas.\n",
        "\n",
        "= saya juga menambahkan title serta menampilkan nama pada grafik agar lebih mudah dipahami."
      ]
    },
    {
      "cell_type": "markdown",
      "id": "bf671ba3",
      "metadata": {
        "id": "bf671ba3"
      },
      "source": [
        "### 5. Menggabungkan PySpark dan Pandas\n",
        "- **Latihan 4: Mengonversi DataFrame antara PySpark dan Pandas**\n",
        "  Praktik untuk convert DataFrame dari PySpark ke Pandas dan sebaliknya:\n"
      ]
    },
    {
      "cell_type": "code",
      "execution_count": null,
      "id": "337e123f",
      "metadata": {
        "id": "337e123f",
        "colab": {
          "base_uri": "https://localhost:8080/"
        },
        "outputId": "aaf82e2e-498c-40e1-f570-bd72d1743591"
      },
      "outputs": [
        {
          "output_type": "stream",
          "name": "stdout",
          "text": [
            "Data Pandas ke PySpark :\n",
            "    Nama  Usia\n",
            "0    Ali    34\n",
            "1   Budi    23\n",
            "2  Citra    29\n",
            "3   Dina    45\n",
            "\n",
            "Data PySpark ke Pandas :\n",
            "+-----+----+\n",
            "| Nama|Usia|\n",
            "+-----+----+\n",
            "|  Ali|  34|\n",
            "| Budi|  23|\n",
            "|Citra|  29|\n",
            "| Dina|  45|\n",
            "+-----+----+\n",
            "\n",
            "Rata-rata usia: 32.75\n"
          ]
        }
      ],
      "source": [
        "# Mengonversi DataFrame dari PySpark ke Pandas\n",
        "df_pandas_from_spark = df.toPandas()\n",
        "\n",
        "# Mengonversi DataFrame dari Pandas ke PySpark\n",
        "df_spark_from_pandas = spark.createDataFrame(df_pandas)\n",
        "\n",
        "# Menampilkan DataFrame hasil konversi\n",
        "print(\"Data Pandas ke PySpark :\")\n",
        "print(df_pandas_from_spark)\n",
        "print(\"\\nData PySpark ke Pandas :\")\n",
        "df_spark_from_pandas.show()\n",
        "\n",
        "# Menghitung rata-rata usia menggunakan PySpark\n",
        "rata_rata_usia = df.select(avg(\"Usia\")).collect()[0][0]\n",
        "print(\"Rata-rata usia:\", rata_rata_usia)"
      ]
    },
    {
      "cell_type": "markdown",
      "id": "2cba4e5c",
      "metadata": {
        "id": "2cba4e5c"
      },
      "source": [
        "- **Tugas 5**: Gunakan metode ini untuk menggabungkan data yang Anda buat di PySpark dengan data dari Pandas, kemudian lakukan analisis sederhana seperti menghitung rata-rata usia."
      ]
    },
    {
      "cell_type": "markdown",
      "id": "afdba6be",
      "metadata": {
        "id": "afdba6be"
      },
      "source": [
        "### 6. Konversi Data antara PySpark dan Pandas"
      ]
    },
    {
      "cell_type": "code",
      "execution_count": null,
      "id": "f863defc",
      "metadata": {
        "id": "f863defc",
        "colab": {
          "base_uri": "https://localhost:8080/"
        },
        "outputId": "b7ea7d50-c7ee-41bc-f85e-3532b7aa9ba7"
      },
      "outputs": [
        {
          "output_type": "stream",
          "name": "stdout",
          "text": [
            "Nilai maksimum usia: 45\n"
          ]
        }
      ],
      "source": [
        "# Mengkonversi Data PySpark ke Pandas\n",
        "spark_to_pandas = df_spark_from_pandas.toPandas()\n",
        "\n",
        "# Menggabungkan kedua Data Pandas\n",
        "df_combined = pd.concat([df_pandas_from_spark, spark_to_pandas], ignore_index=True)\n",
        "\n",
        "# Menghitung nilai maksimum usia\n",
        "max_usia = df_combined['Usia'].max()\n",
        "print(\"Nilai maksimum usia:\", max_usia)"
      ]
    },
    {
      "cell_type": "markdown",
      "id": "65adbe71",
      "metadata": {
        "id": "65adbe71"
      },
      "source": [
        "- **Tugas 6**: Gabungkan data dari PySpark dan Pandas, lalu lakukan operasi statistik seperti menghitung nilai maksimum usia.\n",
        "\n",
        "= saya mengkonversi kembali data yang sebelumnya diubah dari pandas ke spark menjadi spark ke pandas, kemudian saya menambahkan kode untuk menentukan usia maksimum pada data."
      ]
    }
  ],
  "metadata": {
    "colab": {
      "provenance": []
    },
    "kernelspec": {
      "display_name": "Python 3 (ipykernel)",
      "language": "python",
      "name": "python3"
    },
    "language_info": {
      "codemirror_mode": {
        "name": "ipython",
        "version": 3
      },
      "file_extension": ".py",
      "mimetype": "text/x-python",
      "name": "python",
      "nbconvert_exporter": "python",
      "pygments_lexer": "ipython3",
      "version": "3.11.9"
    }
  },
  "nbformat": 4,
  "nbformat_minor": 5
}